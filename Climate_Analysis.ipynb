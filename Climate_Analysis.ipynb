{
 "cells": [
  {
   "cell_type": "code",
   "execution_count": null,
   "metadata": {},
   "outputs": [],
   "source": [
    "import sqlalchemy\n",
    "from sqlalchemy.ext.automap import automap_base\n",
    "from sqlalchemy.orm import Session\n",
    "from sqlalchemy import create_engine\n",
    "from sqlalchemy import func\n",
    "import pandas as pd\n",
    "import matplotlib.pyplot as plt"
   ]
  },
  {
   "cell_type": "code",
   "execution_count": null,
   "metadata": {},
   "outputs": [],
   "source": [
    "engine = create_engine(\"sqlite:///hawaii.sqlite\")\n",
    "Base = automap_base()\n",
    "Base.prepare(engine, reflect=True)"
   ]
  },
  {
   "cell_type": "code",
   "execution_count": null,
   "metadata": {},
   "outputs": [],
   "source": [
    "Measurement = Base.classes.measurement\n",
    "Station = Base.classes.station\n",
    "session = Session(engine)"
   ]
  },
  {
   "cell_type": "code",
   "execution_count": null,
   "metadata": {},
   "outputs": [],
   "source": [
    "precipitationlist = session.query(Measurement.date, Measurement.prcp).filter(Measurement.date > '2016-09-01').all()\n",
    "precipitation = pd.DataFrame(precipitationlist)\n",
    "precipitation = precipitation.set_index('date')\n",
    "precipitation = precipitation.rename(columns={'prcp': 'precipitation'})\n",
    "seaborn.set()\n",
    "precipitation.plot(rot=45)\n",
    "plt.show()"
   ]
  },
  {
   "cell_type": "code",
   "execution_count": null,
   "metadata": {},
   "outputs": [],
   "source": [
    "precipitation.describe()"
   ]
  },
  {
   "cell_type": "code",
   "execution_count": null,
   "metadata": {},
   "outputs": [],
   "source": [
    "station_count = session.query(func.count(Station.station)).limit(1).all()\n",
    "station_count[0][0]"
   ]
  },
  {
   "cell_type": "code",
   "execution_count": null,
   "metadata": {},
   "outputs": [],
   "source": [
    "session.query(Measurement.station, func.count(Measurement.id)).\\\n",
    "    group_by(Measurement.station).\\\n",
    "    order_by(func.count(Measurement.id).desc()).all()"
   ]
  },
  {
   "cell_type": "code",
   "execution_count": null,
   "metadata": {},
   "outputs": [],
   "source": [
    "session.query(Measurement.station, func.count(Measurement.id)).\\\n",
    "    group_by(Measurement.station).\\\n",
    "    order_by(func.count(Measurement.id).desc()).limit(1).all()"
   ]
  },
  {
   "cell_type": "code",
   "execution_count": null,
   "metadata": {},
   "outputs": [],
   "source": [
    "temperatureobservation = session.query(Measurement.date, Measurement.station, Measurement.tobs).filter(Measurement.date > '2018-10-29').all()\n",
    "temperatureobservation"
   ]
  },
  {
   "cell_type": "code",
   "execution_count": null,
   "metadata": {},
   "outputs": [],
   "source": [
    "tempobsforhighobsstat = session.query(Measurement.date, Measurement.tobs).filter(Measurement.date > '2018-10-29).filter(Measurement.station == 'USC00519281').all()\n",
    "tempobsforhighobsstat"
   ]
  },
  {
   "cell_type": "code",
   "execution_count": null,
   "metadata": {},
   "outputs": [],
   "source": [
    "tempobsforhighobsstatfreq = session.query(Measurement.date, Measurement.tobs).filter(Measurement.date > '2018-10-29').filter(Measurement.station == 'USC00519281').all()\n",
    "tempobsfreq = pd.DataFrame(tempobsforhighobsstatfreq)\n",
    "tempobsfreq = tempobsfreq.set_index(\"date\")\n",
    "seaborn.set()\n",
    "tempobsfreq.plot.hist(bins=12)\n",
    "plt.show()"
   ]
  },
  {
   "cell_type": "code",
   "execution_count": null,
   "metadata": {},
   "outputs": [],
   "source": [
    "def calc_temps(start_date, end_date):\n",
    "    min_temp = session.query(func.min(Measurement.tobs)).filter(Measurement.date > start_date).filter(Measurement.date < end_date)\n",
    "    avg_temp = session.query(func.avg(Measurement.tobs)).filter(Measurement.date > start_date).filter(Measurement.date < end_date)\n",
    "    max_temp = session.query(func.max(Measurement.tobs)).filter(Measurement.date > start_date).filter(Measurement.date < end_date)\n",
    "    return min_temp, avg_temp, max_temp"
   ]
  },
  {
   "cell_type": "code",
   "execution_count": null,
   "metadata": {},
   "outputs": [],
   "source": [
    "min_temp, avg_temp, max_temp = calc_temps(\"2018-01-01\", \"2018-12-31\")"
   ]
  },
  {
   "cell_type": "code",
   "execution_count": null,
   "metadata": {},
   "outputs": [],
   "source": [
    "fig, ax = plt.subplots()\n",
    "ax.errorbar(1.4, ((max_temp[0][0] - min_temp[0][0])/2) + min_temp[0][0], yerr=((max_temp[0][0] - min_temp[0][0])/2), color=\"black\")\n",
    "\n",
    "plt.title(\"Trip Avg Temp\")\n",
    "plt.ylabel(\"Temp (F)\")\n",
    "plt.ylim(0, 100)\n",
    "\n",
    "\n",
    "plt.bar(1, avg_temp[0][0], facecolor=\"salmon\", alpha=0.75, align=\"edge\")\n",
    "plt.xticks(avg_temp[0])\n",
    "\n",
    "plt.show()"
   ]
  }
 ],
 "metadata": {
  "kernelspec": {
   "display_name": "Python 3",
   "language": "python",
   "name": "python3"
  },
  "language_info": {
   "codemirror_mode": {
    "name": "ipython",
    "version": 3
   },
   "file_extension": ".py",
   "mimetype": "text/x-python",
   "name": "python",
   "nbconvert_exporter": "python",
   "pygments_lexer": "ipython3",
   "version": "3.6.6"
  }
 },
 "nbformat": 4,
 "nbformat_minor": 2
}
